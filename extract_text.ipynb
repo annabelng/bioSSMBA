{
 "cells": [
  {
   "cell_type": "code",
   "execution_count": 78,
   "metadata": {},
   "outputs": [],
   "source": [
    "import csv\n",
    "import sys\n",
    "import os\n",
    "#import spacy\n",
    "\n",
    "# open NOTEEVENTS.csv to extract discharge summaries\n",
    "d = open(\"../mimic/NOTEEVENTS.csv\")\n",
    "reader = csv.reader(d)\n",
    "header = next(reader)\n",
    "\n",
    "a = open(\"../mimic/ADMISSIONS.csv\")\n",
    "reader2 = csv.reader(a)\n",
    "header2 = next(reader2)\n",
    "\n",
    "# load spacy model for tokenization\n",
    "#nlp = spacy.load(\"en_core_sci_md\")"
   ]
  },
  {
   "cell_type": "code",
   "execution_count": 26,
   "metadata": {},
   "outputs": [],
   "source": [
    "# function check if note is discharge summary\n",
    "# outputs patient ID and the text\n",
    "def process_note_row(row):\n",
    "    if row[6] == 'Discharge summary': \n",
    "        feat = [str(val) for val in row[1:2]]\n",
    "        notes = row[-1]\n",
    "        \n",
    "        notes = notes.replace('\\n', ' ')\n",
    "        feat.append(notes)\n",
    "        \n",
    "        return feat\n"
   ]
  },
  {
   "cell_type": "code",
   "execution_count": 27,
   "metadata": {},
   "outputs": [],
   "source": [
    "with open('../data/filtered.txt','r') as f:\n",
    "    for row in reader:\n",
    "        feat = process_note_row(row)\n",
    "        if feat:\n",
    "            if feat[0] not in f.read():\n",
    "                ID = feat[0]\n",
    "                file = open('../data/patients/'+ID,'a')\n",
    "                file.write(feat[1])\n",
    "                file.close()\n",
    "                "
   ]
  },
  {
   "cell_type": "code",
   "execution_count": null,
   "metadata": {},
   "outputs": [],
   "source": []
  }
 ],
 "metadata": {
  "kernelspec": {
   "display_name": "Python 3",
   "language": "python",
   "name": "python3"
  },
  "language_info": {
   "codemirror_mode": {
    "name": "ipython",
    "version": 3
   },
   "file_extension": ".py",
   "mimetype": "text/x-python",
   "name": "python",
   "nbconvert_exporter": "python",
   "pygments_lexer": "ipython3",
   "version": "3.8.5"
  }
 },
 "nbformat": 4,
 "nbformat_minor": 4
}
