{
 "cells": [
  {
   "cell_type": "code",
   "execution_count": 6,
   "metadata": {},
   "outputs": [],
   "source": [
    "def write_train_label(label_path, output_path):\n",
    "    with open(label_path,'r') as f:\n",
    "        with open(output_path,'w') as g:\n",
    "            lines = f.read().splitlines()\n",
    "            for i in lines:\n",
    "                if i == '1':\n",
    "                    g.write('0 1\\n')\n",
    "                elif i == '0':\n",
    "                    g.write('1 0\\n')"
   ]
  },
  {
   "cell_type": "code",
   "execution_count": 9,
   "metadata": {},
   "outputs": [],
   "source": [
    "label = '../../data/labels/99999'\n",
    "output = '../../data/probability/99999'\n",
    "write_train_label(label,output)"
   ]
  },
  {
   "cell_type": "code",
   "execution_count": null,
   "metadata": {},
   "outputs": [],
   "source": []
  }
 ],
 "metadata": {
  "kernelspec": {
   "display_name": "Python 3",
   "language": "python",
   "name": "python3"
  },
  "language_info": {
   "codemirror_mode": {
    "name": "ipython",
    "version": 3
   },
   "file_extension": ".py",
   "mimetype": "text/x-python",
   "name": "python",
   "nbconvert_exporter": "python",
   "pygments_lexer": "ipython3",
   "version": "3.8.5"
  }
 },
 "nbformat": 4,
 "nbformat_minor": 4
}
