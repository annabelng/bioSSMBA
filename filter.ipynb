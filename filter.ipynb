{
 "cells": [
  {
   "cell_type": "code",
   "execution_count": 21,
   "metadata": {},
   "outputs": [],
   "source": [
    "# import the csv package\n",
    "import csv\n",
    "\n",
    "# open ICUSTAYS.csv to see if patient was in neonatal which is abbreviated as NICU\n",
    "# Used to filter out newborns\n",
    "b = open(\"../../mimic/TRANSFERS.csv\")\n",
    "reader2 = csv.reader(b)\n",
    "header2 = next(reader2)\n",
    "\n",
    "# open PATIENTS.csv to see if patient died in hospital since it precludes readmission\n",
    "# filter out those who died\n",
    "d = open(\"../../mimic/PATIENTS.csv\")\n",
    "reader3 = csv.reader(d)\n",
    "header3 = next(reader3)\n",
    "\n",
    "# filter out newborns\n",
    "a = open(\"../../mimic/ADMISSIONS.csv\")\n",
    "reader4 = csv.reader(a)\n",
    "header4 = next(reader4)"
   ]
  },
  {
   "cell_type": "code",
   "execution_count": 17,
   "metadata": {},
   "outputs": [],
   "source": [
    "def filter_baby(row):\n",
    "    if row[6]=='NEWBORN':\n",
    "        baby = row[1] \n",
    "        return baby\n",
    "    \n",
    "def filter_dead(row):\n",
    "    if row[5]:\n",
    "        dead = row[1]\n",
    "        return dead\n",
    "    \n",
    "def filter_NICU(row):\n",
    "    if row[6]=='NICU' or row[7]=='NICU':\n",
    "        baby = row[1]\n",
    "        return baby\n",
    "    elif row[6]=='NWARD' or row[7] =='NWARD':\n",
    "        baby = row[1]\n",
    "        return baby"
   ]
  },
  {
   "cell_type": "code",
   "execution_count": 22,
   "metadata": {},
   "outputs": [],
   "source": [
    "with open('../../data/update/filtered.txt','w') as f:\n",
    "    for row in reader2:\n",
    "        baby = filter_NICU(row)\n",
    "        if baby:\n",
    "            f.write(baby+\"\\n\")\n",
    "\n",
    "    for row in reader4:\n",
    "        baby = filter_baby(row)\n",
    "        if baby:\n",
    "            f.write(baby+\"\\n\")\n",
    "        dead = filter_dead(row)\n",
    "        if dead:\n",
    "            f.write(dead+\"\\n\")"
   ]
  },
  {
   "cell_type": "code",
   "execution_count": null,
   "metadata": {},
   "outputs": [],
   "source": []
  }
 ],
 "metadata": {
  "kernelspec": {
   "display_name": "Python 3",
   "language": "python",
   "name": "python3"
  },
  "language_info": {
   "codemirror_mode": {
    "name": "ipython",
    "version": 3
   },
   "file_extension": ".py",
   "mimetype": "text/x-python",
   "name": "python",
   "nbconvert_exporter": "python",
   "pygments_lexer": "ipython3",
   "version": "3.8.5"
  }
 },
 "nbformat": 4,
 "nbformat_minor": 4
}
