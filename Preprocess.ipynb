{
 "cells": [
  {
   "cell_type": "code",
   "execution_count": 121,
   "metadata": {},
   "outputs": [],
   "source": [
    "import csv\n",
    "import numpy as np\n",
    "import pickle\n",
    "import argparse\n",
    "import os\n",
    "\n",
    "# import the csv package\n",
    "\n",
    "# open NOTEEVENTS file which has discharge summaries\n",
    "# this will make up features\n",
    "f = open(\"../mimic/NOTEEVENTS.csv\")\n",
    "reader = csv.reader(f)\n",
    "header = next(reader)\n",
    "\n",
    "# open ICUSTAYS.csv to see if patient was in neonatal which is abbreviated as NICU\n",
    "# Used to filter out newborns\n",
    "b = open(\"../mimic/ICUSTAYS.csv\")\n",
    "reader2 = csv.reader(b)\n",
    "header2 = next(reader2)\n",
    "\n",
    "# open PATIENTS.csv to see if patient died in hospital since it precludes readmission\n",
    "# filter out those who died\n",
    "c = open(\"../mimic/PATIENTS.csv\")\n",
    "reader3 = csv.reader(c)\n",
    "header3 = next(reader3)"
   ]
  },
  {
   "cell_type": "code",
   "execution_count": 122,
   "metadata": {},
   "outputs": [
    {
     "data": {
      "text/plain": [
       "['174',\n",
       " '22532',\n",
       " '167853',\n",
       " '2151-08-04',\n",
       " '',\n",
       " '',\n",
       " 'Discharge summary',\n",
       " 'Report',\n",
       " '',\n",
       " '',\n",
       " 'Admission Date:  [**2151-7-16**]       Discharge Date:  [**2151-8-4**]\\n\\n\\nService:\\nADDENDUM:\\n\\nRADIOLOGIC STUDIES:  Radiologic studies also included a chest\\nCT, which confirmed cavitary lesions in the left lung apex\\nconsistent with infectious process/tuberculosis.  This also\\nmoderate-sized left pleural effusion.\\n\\nHEAD CT:  Head CT showed no intracranial hemorrhage or mass\\neffect, but old infarction consistent with past medical\\nhistory.\\n\\nABDOMINAL CT:  Abdominal CT showed lesions of\\nT10 and sacrum most likely secondary to osteoporosis. These can\\nbe followed by repeat imaging as an outpatient.\\n\\n\\n\\n                            [**First Name8 (NamePattern2) **] [**First Name4 (NamePattern1) 1775**] [**Last Name (NamePattern1) **], M.D.  [**MD Number(1) 1776**]\\n\\nDictated By:[**Hospital 1807**]\\nMEDQUIST36\\n\\nD:  [**2151-8-5**]  12:11\\nT:  [**2151-8-5**]  12:21\\nJOB#:  [**Job Number 1808**]\\n']"
      ]
     },
     "execution_count": 122,
     "metadata": {},
     "output_type": "execute_result"
    }
   ],
   "source": [
    "test = next(reader)\n",
    "test"
   ]
  },
  {
   "cell_type": "code",
   "execution_count": 123,
   "metadata": {},
   "outputs": [],
   "source": [
    "def process_note_row(row):\n",
    "    if row[6] == 'Discharge summary': \n",
    "        feat = [str(val) for val in row[1:2]]\n",
    "        feat.append(row[-1])\n",
    "        return feat"
   ]
  },
  {
   "cell_type": "code",
   "execution_count": 124,
   "metadata": {},
   "outputs": [],
   "source": [
    "def filter_baby(row):\n",
    "    if row[5]=='NICU' or row[6]=='NICU':\n",
    "        baby = row[1] \n",
    "        return baby"
   ]
  },
  {
   "cell_type": "code",
   "execution_count": 125,
   "metadata": {},
   "outputs": [],
   "source": [
    "def filter_dead(row):\n",
    "    if row[5]:\n",
    "        dead = row[1]\n",
    "        return dead"
   ]
  },
  {
   "cell_type": "code",
   "execution_count": 126,
   "metadata": {
    "scrolled": true
   },
   "outputs": [],
   "source": [
    "babiesID, deadID= list(), list()\n",
    "for row in reader2:\n",
    "    baby = filter_baby(row)\n",
    "    if baby:\n",
    "        babiesID.append(baby)\n",
    "\n",
    "for row in reader3:\n",
    "    dead = filter_dead(row)\n",
    "    if dead:\n",
    "        deadID.append(dead)\n",
    "        \n",
    "for row in reader:\n",
    "    feat = process_note_row(row)\n",
    "    if feat:\n",
    "        if feat[0] not in babiesID and feat[0] not in deadID:\n",
    "            ID = feat[0]\n",
    "            file = open(ID,'w')\n",
    "            file.write(feat[1])\n",
    "            file.close()"
   ]
  },
  {
   "cell_type": "code",
   "execution_count": 127,
   "metadata": {},
   "outputs": [
    {
     "name": "stdout",
     "output_type": "stream",
     "text": [
      "['Admission Date:  [**2124-7-21**]              Discharge Date:   [**2124-8-18**]\\n', '\\n', '\\n', 'Service: MEDICINE\\n', '\\n', 'Allergies:\\n', 'Amlodipine\\n', '\\n', 'Attending:[**First Name3 (LF) 898**]\\n', 'Chief Complaint:\\n', 'COPD exacerbation/Shortness of Breath\\n', '\\n', 'Major Surgical or Invasive Procedure:\\n', 'Intubation\\n', 'arterial line placement\\n', 'PICC line placement\\n', 'Esophagogastroduodenoscopy\\n', '\\n', '\\n', 'History of Present Illness:\\n', '87 yo F with h/o CHF, COPD on 5 L oxygen at baseline,\\n', 'tracheobronchomalacia s/p stent, presents with acute dyspnea\\n', 'over several days, and lethargy. This morning patient developed\\n', 'an acute worsening in dyspnea, and called EMS. EMS found patient\\n', 'tachypnic at saturating 90% on 5L. Patient was noted to be\\n', 'tripoding. She was given a nebulizer and brought to the ER.\\n', '.\\n', \"According the patient's husband, she was experiencing symptoms\\n\", 'consistent with prior COPD flares. Apparently patient was\\n', 'without cough, chest pain, fevers, chills, orthopnea, PND,\\n', 'dysuria, diarrhea, confusion and neck pain. Her husband is a\\n', 'physician and gave her a dose of levaquin this morning.\\n', '.\\n', 'In the ED, patient was saturating 96% on NRB. CXR did not reveal\\n', 'any consolidation. Per report EKG was unremarkable. Laboratory\\n', 'evaluation revealed a leukocytosis if 14 and lactate of 2.2.\\n', 'Patient received combivent nebs, solumedrol 125 mg IV x1,\\n', 'aspirin 325 mg po x1. Mg sulfate 2 g IV x1, azithromycin 500 mg\\n', 'IVx1, levofloxacin 750 mg IVx1, and Cefrtiaxone 1g IVx1. Patient\\n', 'became tachpnic so was trialed on non-invasive ventilation but\\n', 'became hypotensive to systolics of 80, so noninvasive was\\n', 'removed and patient did well on NRB and nebulizers for about 2\\n', 'hours. At that time patient became agitated, hypoxic to 87% and\\n', 'tachypnic to the 40s, so patient was intubated. Post intubation\\n', 'ABG was 7.3/60/88/31. Propafol was switched to\\n', 'fentanyl/midazolam for hypotension to the 80s. Received 2L of\\n', 'NS. On transfer, patient VS were 102, 87/33, 100% on 60% 450 x\\n', '18 PEEP 5. Patient has peripheral access x2.\\n', '.\\n', 'In the ICU, patient appeared comfortable.\\n', '\\n', 'Review of sytems:\\n', 'limited due to patient sedation\\n', '\\n', '\\n', 'Past Medical History:\\n', '# COPD flare FEV1 40% in [**2120**], on 5L oxygen, s/p intubation\\n', '[**6-6**], s/p distal tracheal to Left Main Stem stents placed\\n', \"[**2118-6-9**]. Stents d/c'd [**2119-4-19**]. Tracheobronchoplasty performed [**6-6**], [**2119**]\\n\", '# CAD w/ atypical angina (cath [**2119**] - LAD 30%, RCA 30%, EF 63%)\\n', '# Dyslipidemia\\n', '# Hypothyroidism,\\n', '# Hypertension\\n', '# Hiatal hernia,\\n', '# lacunar CVA,\\n', '# s/p ped struck -> head injury & rib fx,\\n', '# depression\\n', '\\n', 'Social History:\\n', 'The patient is married and worked as a clinical\\n', 'psychologist. Her husband is a pediatric neurologist at\\n', '[**Hospital3 **]. They have several children, one of which is\\n', 'a nurse. [**First Name (Titles) 1817**] [**Last Name (Titles) 1818**] with 40 pack years, quit 5 years ago.\\n', 'Social ethanol user. No history of IVDU, but remote history of\\n', 'marijuana use.\\n', '\\n', 'Family History:\\n', \"(+) FHx CAD; Father with an MI in his 40's, died\\n\", 'of a CVA at age 59\\n', '\\n', 'Physical Exam:\\n', 'On admission\\n', 'Vitals: T: BP: 116/46 P: 92 O2: 100%\\n', 'TV 60% 450 x 18 PEEP 5\\n', 'General: Intubated, sedated, no apparent discomfort\\n', 'HEENT: Sclera anicteric, MMM, oropharynx clear\\n', 'Neck: supple, JVP not elevated, no LAD\\n', 'Lungs: crackles bases bilaterally\\n', 'CV: Regular rate and rhythm, normal S1 + S2, no murmurs, rubs,\\n', 'gallops\\n', 'Abdomen: soft, non-tender, non-distended, bowel sounds present,\\n', 'no rebound tenderness or guarding, no organomegaly\\n', 'GU: no foley\\n', 'Ext: warm, well perfused, 2+ pulses, no clubbing, cyanosis or\\n', 'edema\\n', '\\n', '\\n', 'Pertinent Results:\\n', 'Initial Labs\\n', '[**2124-7-21**] 10:55AM BLOOD WBC-14.1*# RBC-4.20# Hgb-12.6# Hct-39.1#\\n', 'MCV-93 MCH-30.1 MCHC-32.3 RDW-12.6 Plt Ct-319\\n', '[**2124-7-21**] 10:55AM BLOOD Neuts-93.9* Lymphs-4.4* Monos-1.3*\\n', 'Eos-0.2 Baso-0.2\\n', '[**2124-7-22**] 03:50AM BLOOD PT-11.0 PTT-28.7 INR(PT)-0.9\\n', '[**2124-7-21**] 10:55AM BLOOD Glucose-168* UreaN-13 Creat-0.8 Na-140\\n', 'K-3.5 Cl-92* HCO3-36* AnGap-16\\n', '[**2124-7-22**] 03:50AM BLOOD Calcium-8.8 Phos-3.4 Mg-2.1\\n', '\\n', 'Cardiac Biomarkers\\n', '[**2124-7-21**] 10:55AM BLOOD CK(CPK)-321* cTropnT-0.02*\\n', '[**2124-7-21**] 06:25PM BLOOD CK(CPK)-345* CK-MB-14* MB Indx-4.1\\n', 'cTropnT-0.01\\n', '[**2124-7-22**] 03:50AM BLOOD CK(CPK)-845* CK-MB-15* MB Indx-1.8\\n', 'cTropnT-0.01\\n', '[**2124-7-22**] 12:04PM BLOOD CK(CPK)-1030* CK-MB-15* MB Indx-1.5\\n', 'cTropnT-0.01\\n', '[**2124-7-23**] 03:15AM BLOOD CK(CPK)-530* CK-MB-9 cTropnT-0.01\\n', 'proBNP-2535*\\n', '\\n', 'CXR ([**2124-7-21**]) - IMPRESSION: Hiatal hernia, otherwise\\n', 'unremarkable. Limited exam.\\n', '\\n', 'Echo ([**2124-7-24**]) - There is mild symmetric left ventricular\\n', 'hypertrophy with normal cavity size and regional/global systolic\\n', 'function (LVEF>55%). The estimated cardiac index is normal\\n', '(>=2.5L/min/m2). Tissue Doppler imaging suggests an increased\\n', 'left ventricular filling pressure (PCWP>18mmHg). Right\\n', 'ventricular chamber size is normal. with normal free wall\\n', 'contractility. The aortic valve leaflets (3) are mildly\\n', 'thickened but aortic stenosis is not present. No aortic\\n', 'regurgitation is seen. The mitral valve leaflets are mildly\\n', 'thickened. There is no mitral valve prolapse. Mild (1+) mitral\\n', 'regurgitation is seen. The tricuspid valve leaflets are mildly\\n', 'thickened. There is moderate pulmonary artery systolic\\n', 'hypertension. There is an anterior space which most likely\\n', 'represents a prominent fat pad.\\n', 'IMPRESSION: Normal biventricular systolic function. Moderate\\n', 'pulmonary artery systolic hypertension.\\n', '\\n', 'CXR ([**2124-8-5**]) - Kyphotic positioning. Compared with one day\\n', 'earlier and allowing for technical differences, the right-sided\\n', 'effusion may be slightly larger. Otherwise, no significant\\n', 'change is detected. Again seen is retrocardiac opacity\\n', 'consistent with left lower lobe collapse and/or consolidation\\n', 'and a small left effusion. As noted, a right effusion is again\\n', 'seen, possibly slightly larger on the current examination, with\\n', 'underlying collapse and/or consolidation. Doubt CHF.\\n', 'Degenerative changes of the thoracic spine are noted.\\n', '\\n', 'Cardiac Enzymes [**2124-8-12**]: Trop<0.01\\n', '                [**2124-8-13**]: Trop 0.03\\n', '                [**2124-8-14**]: Trop 0.02\\n', '\\n', 'LABS AT DISCHARGE:\\n', '\\n', '[**2124-8-16**] 05:40AM BLOOD WBC-9.5 RBC-3.08* Hgb-9.6* Hct-28.3*\\n', 'MCV-92 MCH-31.2 MCHC-33.9 RDW-13.5 Plt Ct-360\\n', '[**2124-8-16**] 05:40AM BLOOD PT-10.4 PTT-22.8 INR(PT)-0.8*\\n', '[**2124-8-17**] 05:30AM BLOOD Glucose-114* UreaN-18 Creat-0.8 Na-142\\n', 'K-3.5 Cl-101 HCO3-36* AnGap-9\\n', '[**2124-8-16**] 05:40AM BLOOD Calcium-8.9 Phos-2.8 Mg-2.3\\n', '[**2124-8-16**] 05:40AM BLOOD TSH-0.87\\n', '\\n', 'Brief Hospital Course:\\n', '87 yo F with h/o CHF, COPD on 5 L oxygen at baseline,\\n', 'tracheobronchomalacia s/p stent, presents with acute dyspnea\\n', 'over several days, no s/p intubation for hypercarbic respiratory\\n', 'failure.\\n', '\\n', '# Hypercarbic respiratory failure: Presents with dyspnea, but no\\n', 'clear cough or fevers. Per report, patient felt like this with\\n', 'prior COPD exacerbations. Leukocytosis supports possible\\n', 'pneumonia, but history and CXR not entirely consistent with\\n', 'this. EKG with signs of demand, but ROMI negative. Sputum gram\\n', 'stain unremarkable, but respitatory viral culture grew\\n', 'parainfluenze type 3 on [**7-24**]. Patient was initially managed on\\n', 'solumedrol 60 mg IV Q8H, and was eventually tapered. With no\\n', 'evidence of pneumonia on CXR and sputum gram stain, antibiotics\\n', 'were stopped [**7-25**]. Beta-agonists and anticholinergics were\\n', 'continued around the clock. TTE revealed mild symmetric lvh with\\n', 'normal ef, increased pcwp (>18mmHg), Normal RV, and moderate\\n', 'pulmonary artery systolic hypertension. On [**7-26**], bronchoscopy\\n', 'revealed collapsible, unremarkable airways. Patient had\\n', 'difficulty weaning from the vent, and would become\\n', 'interimittenty hypertensive to SBP 200s and tachypnic to the\\n', '50s. Patient was extubatied on [**7-27**] after passing SBT 0/5, but\\n', 'required re-intubation 30 minutes later for worsening\\n', 'secretions, lack of gag reflex, and tachypnea to the 50s. Of\\n', 'note, on [**8-1**], the patient was found to have MRSA growing in\\n', 'sputum samples. Although it was felt that this likely\\n', 'represented colonization as opposed to true infection, the\\n', 'patient was started on a course of vancomycin (which was stopped\\n', \"after 5 days). After multiple discussions between the patient's\\n\", \"family and the ICU team, the patient's PCP, [**Name10 (NameIs) **] the palliative\\n\", \"care service, the patient's family ultimately decided that she\\n\", 'would not want a tracheostomy. On [**2124-8-3**], extubation was pursued\\n', 'again and was successful. After extubation, her respiratory\\n', 'status improved and she was ultimately called out to the medical\\n', 'floor. On the floor she was progressively weaned to 2LNC with\\n', 'nebs (better than her baseline 5L @home). Because of clinical\\n', 'exams revealing mild volume overload, she was intermittently\\n', 'diuresed. She also experienced intermittent shortness of breath\\n', 'with tachypnea but this was thought to be the result of attacks\\n', 'of anxiety with tachypnea. After receiving prn morphine, her\\n', 'breathing status would typically improve. A steroid taper was\\n', 'begun. The patient should continue prednisone 30 mg daily for 3\\n', 'more days, then 20 mg daily for 4 days, then 10 mg daily for 4\\n', 'days, then 5 mg daily for 4 days, then stop.\\n', '.\\n', '# Upper GI bleeding: On [**7-22**], patient had coffee grounds from OG\\n', 'tube. Lavage for approx 600ccs with clearance. GI perfomred EGD\\n', 'which revealed esophagitis, ulcers and blood in the stomach\\n', 'body, D2 diverticulum and large hiatal hernia. H pylori was\\n', 'negative. Patient was continued on IV PPI, with plan for repeat\\n', 'EGD in 8 weeks, and upper GI series once clinically improved\\n', 'given abnormal anatomy on EGD. Her hematocrit remained stable\\n', 'with no further episodes of upper GI bleeding throughout the\\n', \"patient's hospitalization. On the floor she was switched to PO\\n\", 'pantoprazole twice daily. Aspirin was held.\\n', '.\\n', '# Weakness: The patient was found to have generalized weakness\\n', 'at the end of her hospitalization. Neurology was consulted and\\n', 'they felt it was likely due to a combination of steroid myopathy\\n', 'and deconditioning from her prolonged bedbound status. A TSH was\\n', 'checked which was normal. They recommended pulmonary and\\n', 'physical rehab.\\n', '.\\n', '# CAD: History of LAD and RCA stenosis on Cath, but no stents.\\n', 'Continued statin and beta blocker, but held aspirin for GI\\n', 'bleeding (see above)\\n', '.\\n', '# Nutrition: Unable to pass NG without direct visualization due\\n', 'to hiatal hernia. IR guided post pyloric NG tube was placed on\\n', '[**7-26**] for TFs and po medications. NG tube was pulled when patient\\n', 'was extubated on [**2124-8-3**]. Speech and swallow were consulted\\n', \"following the patient's extubation and she was eventually moved\\n\", 'to soft solids and thin liquids with 1:1 supervision.\\n', '\\n', '# Goals of care: PCP [**Last Name (NamePattern4) **]. [**Last Name (STitle) 1407**] was very involved in discussions\\n', \"regarding patient's code status. Palliative care also followed\\n\", \"along with the patient. Ultimately, at the time of the patient's\\n\", 'extubation on [**2124-8-3**], it was decided that the patient would be\\n', \"DNR/DNI (although this was later change). The patient's family\\n\", 'felt that she would not want a tracheostomy. It was decided that\\n', 'she would not be reintubated and that, if her respiratory status\\n', 'were to worsen after intubation, care would be focused on\\n', 'comfort. However, her status improved in the MICU and on the\\n', 'floor and it was then decided that she would remain DNR with\\n', 'intubation (but no tracheostomy) if her breathing deteriorated.\\n', 'After several days with stable or improved overall clinical\\n', 'status, she was deemed suitable for rehabilitation. At the timem\\n', \"of discharge, the patient's code status was do not resuscitate,\\n\", 'okay to intubate.\\n', '\\n', 'Medications on Admission:\\n', '# Omeprazole 20 mg daily\\n', '# Furosemide 20 mg daily\\n', '# Toprol XL 50 mg daily\\n', '# Lipitor 20 mg daily\\n', '# Folic Acid 1 mg daily\\n', '# Centrum daily\\n', '# Diovan 80 mg daily\\n', '# Trazodone 75-100 mg qhs\\n', '# Melatonin 3 mg qhs\\n', '# [**Doctor Last Name 1819**] Aspirin 325 mg daily\\n', '# Albuterol neb prn\\n', '# Duoneb prn\\n', '# Advair 250/50 [**Hospital1 **]\\n', '# Zolpidem 2.5 mg qhs prn\\n', '# Synthroid 100 mcg daily\\n', '# Lexapro 20 mg daily\\n', '\\n', '\\n', 'Discharge Medications:\\n', '1. Metoprolol Succinate 50 mg Tablet Sustained Release 24 hr\\n', 'Sig: One (1) Tablet Sustained Release 24 hr PO once a day.\\n', '2. Atorvastatin 20 mg Tablet Sig: One (1) Tablet PO DAILY\\n', '(Daily).\\n', '3. Folic Acid 1 mg Tablet Sig: One (1) Tablet PO DAILY (Daily).\\n', '\\n', '4. Multivitamin     Tablet Sig: One (1) Tablet PO DAILY (Daily).\\n', '\\n', '5. Trazodone 50 mg Tablet Sig: One (1) Tablet PO at bedtime as\\n', 'needed for insomnia.\\n', '6. Melatonin 3 mg Tablet Sig: One (1) Tablet PO at bedtime.\\n', '7. Valsartan 160 mg Tablet Sig: 1.5 Tablets PO once a day.\\n', '8. Albuterol Sulfate 2.5 mg /3 mL (0.083 %) Solution for\\n', 'Nebulization Sig: One (1) neb Inhalation every 4-6 hours as\\n', 'needed for shortness of breath or wheezing.\\n', '9. DuoNeb 0.5 mg-3 mg(2.5 mg base)/3 mL Solution for\\n', 'Nebulization Sig: One (1) neb Inhalation every six (6) hours as\\n', 'needed for shortness of breath or wheezing.\\n', '10. Fluticasone-Salmeterol 250-50 mcg/Dose Disk with Device Sig:\\n', 'One (1) puff Inhalation twice a day.\\n', '11. Escitalopram 10 mg Tablet Sig: Two (2) Tablet PO DAILY\\n', '(Daily).\\n', '12. Levothyroxine 100 mcg Tablet Sig: One (1) Tablet PO DAILY\\n', '(Daily).\\n', '13. Prednisone 20 mg Tablet Sig: One (1) Tablet PO daily () for\\n', '4 days: Start after 3 days of 30 mg daily.\\n', '14. Prednisone 10 mg Tablet Sig: One (1) Tablet PO daily () for\\n', '4 days: Start after 4 days of 20 mg daily.\\n', '15. Prednisone 5 mg Tablet Sig: One (1) Tablet PO daily () for 4\\n', 'days: Start after 4 days of 10 mg daily.\\n', '16. Hydrochlorothiazide 12.5 mg Capsule Sig: One (1) Capsule PO\\n', 'DAILY (Daily).\\n', '17. Pantoprazole 40 mg Tablet, Delayed Release (E.C.) Sig: One\\n', '(1) Tablet, Delayed Release (E.C.) PO twice a day.\\n', '18. Morphine 10 mg/5 mL Solution Sig: Five (5) mg PO every four\\n', '(4) hours as needed for respiratory discomfort: Hold for\\n', 'oversedation or RR<12.\\n', '19. Prednisone 10 mg Tablet Sig: Three (3) Tablet PO once a day\\n', 'for 3 days.\\n', '20. Colace 100 mg Capsule Sig: One (1) Capsule PO twice a day.\\n', '21. Senna 8.6 mg Tablet Sig: One (1) Tablet PO twice a day as\\n', 'needed for constipation.\\n', '22. Humalog insulin sliding scale\\n', 'Please use attached Humalog insulin sliding scale while on\\n', 'steroids.\\n', '\\n', '\\n', 'Discharge Disposition:\\n', 'Extended Care\\n', '\\n', 'Facility:\\n', '[**Location 1820**] center at [**Location (un) 1821**]\\n', '\\n', 'Discharge Diagnosis:\\n', 'Primary:\\n', '1. Chronic Obstructive Pulmonary Disease Exacerbation\\n', '2. Respiratory failure with intubation\\n', '3. Upper gastrointestinal bleed/Peptic Ulcer Disease\\n', '4. Hypertension\\n', '5. Anxiety\\n', '\\n', 'Secondary:\\n', '1. Coronary Artery Disease\\n', '2. Hypothyroidism\\n', '\\n', '\\n', 'Discharge Condition:\\n', 'Mental Status: Confused - sometimes.\\n', 'Level of Consciousness: Alert and interactive.\\n', 'Activity Status: Out of Bed with assistance to chair or\\n', 'wheelchair.\\n', '\\n', '\\n', 'Discharge Instructions:\\n', 'You were admitted to the hospital with shortness of breath and\\n', 'respiratory failure and lethargy. In the emergency department,\\n', 'you were breathing very fast and a breathing tube was inserted\\n', 'into your airway to help you breathe. You were admitted to the\\n', 'intensive care unit. There, you were managed with steroids and\\n', 'antibiotics and the tube was eventually removed from your\\n', 'airway, allowing you to breathe on your own. You also underwent\\n', 'bronchoscopy which looked at the inside of your airways.\\n', '.\\n', 'During your time in the intensive care unit, you developed a\\n', 'gastrointestinal bleed. A tube was placed into your stomach and\\n', 'you underwent an endoscopic procedure to look at your esophagus\\n', 'and stomach. This showed inflammation in your esophagusand\\n', 'ulcers in your stomach.\\n', '.\\n', 'You should continue to use nasal oxygen by nasal cannula as\\n', 'needed. You should continue the steroid taper as instructed. You\\n', 'should call your doctor or return to the emergency room if you\\n', 'have increasing difficulty breathing or shortness of breath,\\n', 'wheezing, chest pain, blood in your stool or vomiting blood.\\n', '.\\n', 'There are some changes in your medications.\\n', 'START pantoprazole 40 mg twice daily and STOP omeprazole\\n', 'START hydrochlorothiazide\\n', 'START prednisone, taking 30 mg for 3 days, then 20 mg for 4\\n', 'days, then 10 mg for 4 days, then 5 mg for 4 days, then stop.\\n', 'START colace and senna as needed for constipation\\n', 'Can use morphine to alleviate symptoms of respiratory discomfort\\n', 'STOP furosemide\\n', 'STOP zolpidem\\n', 'STOP aspirin\\n', 'INCREASE Diovan to 240 mg daily\\n', 'DECREASE trazodone to 50 mg daily\\n', '.\\n', 'Follow up as indicated below.\\n', '\\n', 'Followup Instructions:\\n', 'You have an appointment to follow up with Dr. [**Last Name (STitle) 1407**], your\\n', 'primary care physician, [**Name10 (NameIs) **] [**8-29**] at 1pm. His address is [**Location (un) 1822**], [**Apartment Address(1) 1823**], [**Location (un) **],[**Numeric Identifier 1700**]. The phone is\\n', '[**Telephone/Fax (1) 1408**].\\n', '\\n', 'You have an appointment to follow up with Dr. [**First Name4 (NamePattern1) **] [**Last Name (NamePattern1) 174**] in\\n', 'the  [**Hospital **] clinic on [**8-30**] at 3pm in the [**Hospital Unit Name 1824**] at [**Hospital1 18**] on the [**Location (un) 453**]. Their phone number is\\n', '[**Telephone/Fax (1) 463**].\\n', '\\n', 'Department: DIV. OF GASTROENTEROLOGY\\n', 'When: WEDNESDAY [**2124-8-30**] at 3:00 PM\\n', 'With: [**First Name4 (NamePattern1) 1386**] [**Last Name (NamePattern1) **], MD [**Telephone/Fax (1) 463**]\\n', 'Building: Ra [**Hospital Unit Name 1825**] ([**Hospital Ward Name 1826**]/[**Hospital Ward Name 1827**] Complex) [**Location (un) **]\\n', 'Campus: EAST     Best Parking: Main Garage\\n', '\\n', '\\n', '\\n']\n"
     ]
    }
   ],
   "source": [
    "file1 = open(\"13702\",\"r\") \n",
    "print (file1.readlines())\n",
    "file1.close() "
   ]
  },
  {
   "cell_type": "code",
   "execution_count": 107,
   "metadata": {},
   "outputs": [
    {
     "data": {
      "text/plain": [
       "39407"
      ]
     },
     "execution_count": 107,
     "metadata": {},
     "output_type": "execute_result"
    }
   ],
   "source": [
    "len(feats)"
   ]
  },
  {
   "cell_type": "code",
   "execution_count": 85,
   "metadata": {},
   "outputs": [
    {
     "data": {
      "text/plain": [
       "['13702',\n",
       " '107527',\n",
       " 'Admission Date:  [**2118-6-2**]       Discharge Date:  [**2118-6-14**]\\n\\nDate of Birth:                    Sex:  F\\n\\nService:  MICU and then to [**Doctor Last Name **] Medicine\\n\\nHISTORY OF PRESENT ILLNESS:  This is an 81-year-old female\\nwith a history of emphysema (not on home O2), who presents\\nwith three days of shortness of breath thought by her primary\\ncare doctor to be a COPD flare.  Two days prior to admission,\\nshe was started on a prednisone taper and one day prior to\\nadmission she required oxygen at home in order to maintain\\noxygen saturation greater than 90%.  She has also been on\\nlevofloxacin and nebulizers, and was not getting better, and\\npresented to the [**Hospital1 18**] Emergency Room.\\n\\nIn the [**Hospital3 **] Emergency Room, her oxygen saturation was\\n100% on CPAP.  She was not able to be weaned off of this\\ndespite nebulizer treatment and Solu-Medrol 125 mg IV x2.\\n\\nReview of systems is negative for the following:  Fevers,\\nchills, nausea, vomiting, night sweats, change in weight,\\ngastrointestinal complaints, neurologic changes, rashes,\\npalpitations, orthopnea.  Is positive for the following:\\nChest pressure occasionally with shortness of breath with\\nexertion, some shortness of breath that is positionally\\nrelated, but is improved with nebulizer treatment.\\n\\nPAST MEDICAL HISTORY:\\n1. COPD.  Last pulmonary function tests in [**2117-11-3**]\\ndemonstrated a FVC of 52% of predicted, a FEV1 of 54% of\\npredicted, a MMF of 23% of predicted, and a FEV1:FVC ratio of\\n67% of predicted, that does not improve with bronchodilator\\ntreatment.  The FVC, however, does significantly improve with\\nbronchodilator treatment consistent with her known reversible\\nair flow obstruction in addition to an underlying restrictive\\nventilatory defect.  The patient has never been on home\\noxygen prior to this recent episode.  She has never been on\\nsteroid taper or been intubated in the past.\\n2. Lacunar CVA.  MRI of the head in [**2114-11-4**]\\ndemonstrates \"mild degree of multiple small foci of high T2\\nsignal within the white matter of both cerebral hemispheres\\nas well as the pons, in the latter region predominantly to\\nthe right of midline.  The abnormalities, while nonspecific\\nin etiology, are most likely secondary to chronic\\nmicrovascular infarction.  There is no mass, lesion, shift of\\nthe normal midline strictures or hydrocephalus.  The major\\nvascular flow patterns are preserved.  There is moderate\\nright maxillary, moderate bilateral ethmoid, mild left\\nmaxillary, minimal right sphenoid, and frontal sinus mucosal\\nthickening.  These abnormalities could represent an allergic\\nor some other type of inflammatory process.  Additionally\\nnoted is a moderately enlarged subtotally empty sella\\nturcica\".\\n3. Angina:  Most recent stress test was in [**2118-1-3**]\\ngoing for four minutes with a rate pressure product of\\n10,000, 64% of maximum predicted heart rate without evidence\\nof ischemic EKG changes or symptoms.  The imaging portion of\\nthe study demonstrated no evidence of myocardial ischemia and\\na calculated ejection fraction of 84%.  The patient denies\\nangina at rest and gets angina with walking a few blocks.\\nAre alleviated by sublingual nitroglycerin.\\n4. Hypothyroidism on Synthroid.\\n5. Depression on Lexapro.\\n6. Motor vehicle accident with head injury approximately 10\\nyears ago.\\n\\nMEDICATIONS ON ADMISSION:\\n1. Hydrochlorothiazide 25 q.d.\\n2. Prednisone 60 mg, 50 mg, 40 mg, 20 mg.\\n3. Levofloxacin 500 mg q.d.\\n4. Imdur 60 mg q.d.\\n5. Synthroid 75 mcg q.d.\\n6. Pulmicort nebulizer b.i.d.\\n7. Albuterol nebulizer q.4. prn.\\n8. Lexapro 10 mg q.d.\\n9. Protonix 40 mg q.d.\\n10. Aspirin 81 mg q.d.\\n\\nALLERGIES:  Norvasc leads to lightheadedness and headache.\\n\\nFAMILY HISTORY:  Noncontributory.\\n\\nSOCIAL HISTORY:  Lives with her husband, Dr. [**Known lastname 1809**] an\\neminent Pediatric Neurologist at [**Hospital3 1810**].  The\\npatient is a prior smoker, but has not smoked in over 10\\nyears.  She has no known alcohol use and she is a full code.\\n\\nPHYSICAL EXAM AT TIME OF ADMISSION:  Blood pressure 142/76,\\nheart rate 100 and regular, respirations at 17-21, and 97%\\naxillary temperature.  She was saturating at 100% on CPAP\\nwith dry mucous membranes.  An elderly female in no apparent\\ndistress.  Pupils are equal, round, and reactive to light and\\naccommodation.  Extraocular movements are intact.  Oropharynx\\ndifficult to assess due to CPAP machine.  No evidence of\\njugular venous pressure, however, the strap from the CPAP\\nmachine obscures the neck exam.  Cranial nerves II through\\nXII are grossly intact.  Neck is supple without\\nlymphadenopathy.  Heart exam:  Tachycardic, regular, obscured\\nby loud bilateral wheezing with increase in the expiratory\\nphase as well as profuse scattered rhonchi throughout the\\nlung fields.  Positive bowel sounds, soft, nontender,\\nnondistended, obese, no masses.  Mild edema of the lower\\nextremities without clubbing or cyanosis, no rashes.  There\\nis a right hand hematoma.  Strength is assessed as [**5-9**] in the\\nlower extremities, [**5-9**] in the upper extremities with a normal\\nmental status and cognition.\\n\\nLABORATORY STUDIES:  White count 19, hematocrit 41, platelets\\n300.  Chem-7:  127, 3.6, 88, 29, 17, 0.6, 143.  Troponin was\\nnegative.  CKs were negative times three.  Initial blood gas\\nshowed a pH of 7.4, pO2 of 66, pCO2 of 54.\\n\\nChest x-ray demonstrates a moderate sized hiatal hernia,\\nsegmental atelectasis, left lower lobe infiltrate versus\\nsegmental atelectasis.\\n\\nEKG shows normal sinus rhythm at 113 beats per minute, normal\\naxis, no evidence of ST-T wave changes.\\n\\nBRIEF SUMMARY OF HOSPITAL COURSE:\\n1. COPD/dyspnea/pneumonia:  The patient was initially placed\\non an aggressive steroid taper and admitted to the Medical\\nIntensive Care Unit due to her difficulty with oxygenation\\ndespite CPAP machine.  She was also given nebulizer\\ntreatments q.4h. as well as chest PT.  The nebulizers were\\nincreased to q.1h. due to the fact that she continued to have\\nlabored breathing.\\n\\nDue to persistent respiratory failure and labored breathing,\\nthe patient was intubated on [**2118-6-7**] in order to improve\\noxygenation, ventilation, and ability to suction.  A\\nbronchoscopy was performed on [**2118-6-7**], which demonstrated\\nmarked narrowing of the airways with expiration consistent\\nwith tracheomalacia.\\n\\nOn [**2118-6-9**], two silicone stents were placed, one in the left\\nmain stem (12 x 25 and one in the trachea 16 x 40) by Dr.\\n[**First Name (STitle) **] [**Name (STitle) **] under rigid bronchoscopy with general anesthesia.\\n\\nOn [**2118-6-11**], the patient was extubated to a cool mist shovel\\nmask and her oxygen was titrated down to 2 liters nasal\\ncannula at which time she was transferred to the medical\\nfloor.  On the medical floor, the steroids were weaned to off\\non [**2118-6-14**], and the patient was saturating at 97% on 2\\nliters, 92% on room air.\\n\\nOn [**2118-6-14**], the patient was seen again by the Interventional\\nPulmonology service, who agreed that she looked much improved\\nand recommended that she go to pulmonary rehabilitation with\\nfollowup within six weeks\\' time status post placement of\\nstents in respiratory failure.\\n\\n2. Cardiovascular:  The patient was ruled out for a MI.  She\\ndid have another episode on the medical floor of chest pain,\\nwhich showed no evidence of EKG changes and negative\\ntroponin, negative CKs x3.  She was continued on aspirin,\\nImdur, and diltiazem for rate control per her outpatient\\nregimen.\\n\\n3. Hypertension:  She was maintained on diltiazem and\\nhydrochlorothiazide with adequate blood pressure control and\\nnormalization of electrolytes.\\n\\n4. Hematuria:  The patient had intermittent hematuria likely\\nsecondary to Foley placement.  The Foley catheter was\\ndiscontinued on [**2118-6-14**].  She had serial urinalyses, which\\nwere all negative for signs of infection.\\n\\n5. Hyperglycemia:  Patient was placed on insulin-sliding\\nscale due to hyperglycemia, which was steroid induced.  This\\nworked quite well and her glucose came back to normal levels\\nonce the steroids were tapered to off.\\n\\n6. Leukocytosis:  Patient did have a profound leukocytosis of\\n20 to 22 during much of her hospital course.  As the steroids\\nwere tapered to off, her white blood cell count on [**2118-6-14**]\\nwas 15,000.  It was felt that the leukocytosis was secondary\\nto both steroids as well as question of a left lower lobe\\npneumonia.\\n\\n7. For the left lower lobe pneumonia, the patient had\\ninitially received a course of levofloxacin 500 p.o. q.d.\\nfrom [**2118-6-4**] to [**2118-6-10**].  This was restarted on [**2118-6-12**]\\nfor an additional seven day course given the fact that she\\nstill had the leukocytosis and still had marked rales at the\\nleft lower lobe.\\n\\n8. Hypothyroidism:  The patient was continued on outpatient\\nmedical regimen.\\n\\n9. Depression:  The patient was continued on Lexapro per\\noutpatient regimen.  It is recommended that she follow up\\nwith a therapist as an outpatient due to the fact that she\\ndid have a blunted affect throughout much of the hospital\\ncourse, and did appear clinically to be depressed.\\n\\n10. Prophylaxis:  She was maintained on proton-pump inhibitor\\nwith subQ Heparin.\\n\\n11. Sore throat:  The patient did have a sore throat for much\\nof the hospital course post extubation.  This was treated\\nwith Cepacol lozenges as well as KBL liquid (a solution\\ncontaining Kaopectate, Bismuth, and lidocaine) at bedtime.\\n\\n12. Communication/code status:  The patient was full code\\nthroughout her hospital course, and communication was\\nmaintained with the patient and her husband.\\n\\n13. Muscle weakness:  The patient did have profound muscle\\nweakness and was evaluated by Physical Therapy, and was found\\nto have impaired functional mobility, impaired\\nmusculoskeletal performance, impaired gas exchange, impaired\\nendurance, impaired ventilation, and needed help with supine\\nto sit.  However, she was able to tolerate sitting in a chair\\nfor approximately one hour.\\n\\nOn motor exam, her flexors and extensors of the lower\\nextremities were [**4-8**] at the knee, [**4-8**] at the ankle, [**4-8**] at\\nthe elbows, and [**4-8**] hips.  It was felt that this weakness was\\nmost likely due to a combination of steroid myopathy as well\\nas muscle atrophy secondary to deconditioning after a\\nprolonged hospital course.\\n\\n14. Speech/swallow:  The patient had a Speech and Swallow\\nevaluation showing no evidence of dysphagia, no evidence of\\nvocal cord damage status post tracheal stent placement.\\n\\nDISCHARGE CONDITION:  The patient was able to oxygenate on\\nroom air at 93% at the time of discharge.  She was profoundly\\nweak, but was no longer tachycardic and had a normal blood\\npressure.  Her respirations were much improved albeit with\\ntransmitted upper airway sounds.\\n\\nDISCHARGE STATUS:  The patient will be discharged to [**Hospital1 **]\\nfor both pulmonary and physical rehabilitation.\\n\\nDISCHARGE MEDICATIONS:\\n1. Levothyroxine 75 mcg p.o. q.d.\\n2. Citalopram 10 mg p.o. q.d.\\n3. Aspirin 81 mg p.o. q.d.\\n4. Fluticasone 110 mcg two puffs inhaled b.i.d.\\n5. Salmeterol Diskus one inhalation b.i.d.\\n6. Acetaminophen 325-650 mg p.o. q.4-6h. prn.\\n7. Ipratropium bromide MDI two puffs inhaled q.2h. prn.\\n8. Albuterol 1-2 puffs inhaled q.2h. prn.\\n9. Zolpidem tartrate 5 mg p.o. q.h.s. prn.\\n10. Isosorbide dinitrate 10 mg p.o. t.i.d.\\n11. Diltiazem 60 mg p.o. q.i.d.\\n12. Pantoprazole 40 mg p.o. q.24h.\\n13. Trazodone 25 mg p.o. q.h.s. prn.\\n14. SubQ Heparin 5000 units subcutaneous b.i.d. until such\\ntime that the patient is able to get out of bed twice a day.\\n15. Cepacol lozenges q.2h. prn.\\n16. Levofloxacin 500 mg p.o. q.d. for a seven day course to\\nbe completed on [**2118-6-21**].\\n17. Kaopectate/Benadryl/lidocaine 5 mL p.o. b.i.d. prn, not\\nto be given around mealtimes for concern of dysphagia induced\\nby lidocaine.\\n18. Lorazepam 0.5-2 mg IV q.6h. prn.\\n\\nFOLLOW-UP PLANS:  The patient is recommended to followup with\\nDr. [**First Name4 (NamePattern1) **] [**Last Name (NamePattern1) 1407**], [**Telephone/Fax (1) 1408**] within two weeks of leaving\\nof the hospital.  She is also recommended to followup with\\nthe Interventional Pulmonary service for followup status post\\nstent placement.  She is also recommended to followup with a\\nneurologist if her muscle weakness does not improve within\\none week on physical therapy with concern for steroid-induced\\nmyopathy.\\n\\nFINAL DIAGNOSES:\\n1. Tracheomalacia status post tracheal and left main stem\\nbronchial stent placement.\\n2. Hypertension.\\n3. Hypothyroidism.\\n4. Restrictive lung defect.\\n5. Depression.\\n\\n\\n                     DR.[**Last Name (STitle) **],[**First Name3 (LF) **] 12-207\\n\\n\\nDictated By:[**Last Name (NamePattern1) 1811**]\\nMEDQUIST36\\n\\nD:  [**2118-6-14**]  11:30\\nT:  [**2118-6-14**]  11:33\\nJOB#:  [**Job Number 1812**]\\n']"
      ]
     },
     "execution_count": 85,
     "metadata": {},
     "output_type": "execute_result"
    }
   ],
   "source": [
    "feat"
   ]
  },
  {
   "cell_type": "code",
   "execution_count": null,
   "metadata": {},
   "outputs": [],
   "source": []
  }
 ],
 "metadata": {
  "kernelspec": {
   "display_name": "Python 3",
   "language": "python",
   "name": "python3"
  },
  "language_info": {
   "codemirror_mode": {
    "name": "ipython",
    "version": 3
   },
   "file_extension": ".py",
   "mimetype": "text/x-python",
   "name": "python",
   "nbconvert_exporter": "python",
   "pygments_lexer": "ipython3",
   "version": "3.8.5"
  }
 },
 "nbformat": 4,
 "nbformat_minor": 4
}
